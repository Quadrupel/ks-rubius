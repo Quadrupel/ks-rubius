{
 "cells": [
  {
   "cell_type": "code",
   "execution_count": 1,
   "metadata": {},
   "outputs": [],
   "source": [
    "import numpy as np\n",
    "import pandas as pd\n",
    "\n",
    "train_data = pd.read_csv('ks_train.csv')\n",
    "test_data = pd.read_csv('ks_test.csv')"
   ]
  },
  {
   "cell_type": "code",
   "execution_count": 2,
   "metadata": {},
   "outputs": [],
   "source": [
    "def set_country(data):\n",
    "    #Выбираем данные без ошибок\n",
    "    sub_data=data.loc[data['country'] != 'N,0\"']\n",
    "    \n",
    "    #Выбираем данные с ошибками и одной используемой валютой\n",
    "    usd__data=data.loc[data['country'] == 'N,0\"'].loc[data['currency'] == 'USD']\n",
    "    gbp__data=data.loc[data['country'] == 'N,0\"'].loc[data['currency'] == 'GBP']\n",
    "    eur__data=data.loc[data['country'] == 'N,0\"'].loc[data['currency'] == 'EUR']\n",
    "    \n",
    "    cad__data=data.loc[data['country'] == 'N,0\"'].loc[data['currency'] == 'CAD']\n",
    "    aud__data=data.loc[data['country'] == 'N,0\"'].loc[data['currency'] == 'AUD']\n",
    "    sek__data=data.loc[data['country'] == 'N,0\"'].loc[data['currency'] == 'SEK']\n",
    "    \n",
    "    mxn__data=data.loc[data['country'] == 'N,0\"'].loc[data['currency'] == 'MXN']\n",
    "    nzd__data=data.loc[data['country'] == 'N,0\"'].loc[data['currency'] == 'NZD']\n",
    "    dkk__data=data.loc[data['country'] == 'N,0\"'].loc[data['currency'] == 'DKK']\n",
    "    \n",
    "    chf__data=data.loc[data['country'] == 'N,0\"'].loc[data['currency'] == 'CHF']\n",
    "    nok__data=data.loc[data['country'] == 'N,0\"'].loc[data['currency'] == 'NOK']\n",
    "    hkd__data=data.loc[data['country'] == 'N,0\"'].loc[data['currency'] == 'HKD']\n",
    "    \n",
    "    sgd__data=data.loc[data['country'] == 'N,0\"'].loc[data['currency'] == 'SGD']\n",
    "    jpy__data=data.loc[data['country'] == 'N,0\"'].loc[data['currency'] == 'JPY']\n",
    "    \n",
    "    #Изменяем страну в зависимости от валюты\n",
    "    usd__data['country'].replace(to_replace='N,0\"', value='US', inplace=True)\n",
    "    gbp__data['country'].replace(to_replace='N,0\"', value='GB', inplace=True)\n",
    "    eur__data['country'].replace(to_replace='N,0\"', value='DE', inplace=True)\n",
    "    \n",
    "    cad__data['country'].replace(to_replace='N,0\"', value='CA', inplace=True)\n",
    "    aud__data['country'].replace(to_replace='N,0\"', value='AU', inplace=True)\n",
    "    sek__data['country'].replace(to_replace='N,0\"', value='SE', inplace=True)\n",
    "    \n",
    "    mxn__data['country'].replace(to_replace='N,0\"', value='MX', inplace=True)\n",
    "    nzd__data['country'].replace(to_replace='N,0\"', value='NZ', inplace=True)\n",
    "    dkk__data['country'].replace(to_replace='N,0\"', value='DK', inplace=True)\n",
    "        \n",
    "    chf__data['country'].replace(to_replace='N,0\"', value='CH', inplace=True)\n",
    "    nok__data['country'].replace(to_replace='N,0\"', value='NO', inplace=True)\n",
    "    hkd__data['country'].replace(to_replace='N,0\"', value='HK', inplace=True)\n",
    "    \n",
    "    sgd__data['country'].replace(to_replace='N,0\"', value='SG', inplace=True)\n",
    "    jpy__data['country'].replace(to_replace='N,0\"', value='JP', inplace=True)\n",
    "    \n",
    "    #Объединяем датафреймы и возвращаем их\n",
    "    sub_data = sub_data.append(usd__data, ignore_index=True)\n",
    "    sub_data = sub_data.append(gbp__data, ignore_index=True)\n",
    "    sub_data = sub_data.append(eur__data, ignore_index=True)\n",
    "    \n",
    "    sub_data = sub_data.append(cad__data, ignore_index=True)\n",
    "    sub_data = sub_data.append(aud__data, ignore_index=True)\n",
    "    sub_data = sub_data.append(sek__data, ignore_index=True)\n",
    "    \n",
    "    sub_data = sub_data.append(mxn__data, ignore_index=True)\n",
    "    sub_data = sub_data.append(nzd__data, ignore_index=True)\n",
    "    sub_data = sub_data.append(dkk__data, ignore_index=True)\n",
    "    \n",
    "    sub_data = sub_data.append(chf__data, ignore_index=True)\n",
    "    sub_data = sub_data.append(nok__data, ignore_index=True)\n",
    "    sub_data = sub_data.append(hkd__data, ignore_index=True)\n",
    "    \n",
    "    sub_data = sub_data.append(sgd__data, ignore_index=True)\n",
    "    sub_data = sub_data.append(jpy__data, ignore_index=True)\n",
    "    \n",
    "    data_with_backers = sub_data.loc[data['backers'] != 0]\n",
    "    data_without_money = sub_data.loc[data['backers'] == 0].loc[data['usd_pledged_real'] == 0]\n",
    "    data_without_backers = sub_data.loc[data['backers'] == 0].loc[data['usd_pledged_real'] != 0]\n",
    "    X = data['usd_pledged_real']//(data['usd_pledged_real'].sum()/data['backers'].sum())\n",
    "    \n",
    "    \n",
    "    data_without_backers['backers'].replace(to_replace=0, value=X, inplace=True)\n",
    "    data_without_backers['backers'].replace(to_replace=0, value=1, inplace=True)\n",
    "    \n",
    "    data_with_backers = data_with_backers.append(data_without_money, ignore_index=True)\n",
    "    data_with_backers = data_with_backers.append(data_without_backers, ignore_index=True)\n",
    "    \n",
    "    return data_with_backers"
   ]
  },
  {
   "cell_type": "code",
   "execution_count": 3,
   "metadata": {},
   "outputs": [],
   "source": [
    "new_train_data = set_country(train_data)\n",
    "new_test_data = set_country(test_data)"
   ]
  },
  {
   "cell_type": "code",
   "execution_count": 4,
   "metadata": {},
   "outputs": [],
   "source": [
    "from datetime import datetime\n",
    "new_train_data['period'] = new_train_data['deadline'].astype('datetime64[D]') - new_train_data['launched'].astype('datetime64[D]')\n",
    "new_test_data['period'] = new_test_data['deadline'].astype('datetime64[D]') - new_test_data['launched'].astype('datetime64[D]')"
   ]
  },
  {
   "cell_type": "code",
   "execution_count": 5,
   "metadata": {},
   "outputs": [
    {
     "data": {
      "text/html": [
       "<div>\n",
       "<style scoped>\n",
       "    .dataframe tbody tr th:only-of-type {\n",
       "        vertical-align: middle;\n",
       "    }\n",
       "\n",
       "    .dataframe tbody tr th {\n",
       "        vertical-align: top;\n",
       "    }\n",
       "\n",
       "    .dataframe thead th {\n",
       "        text-align: right;\n",
       "    }\n",
       "</style>\n",
       "<table border=\"1\" class=\"dataframe\">\n",
       "  <thead>\n",
       "    <tr style=\"text-align: right;\">\n",
       "      <th></th>\n",
       "      <th>category</th>\n",
       "      <th>backers</th>\n",
       "      <th>country</th>\n",
       "      <th>usd_goal_real</th>\n",
       "      <th>state</th>\n",
       "      <th>period</th>\n",
       "    </tr>\n",
       "  </thead>\n",
       "  <tbody>\n",
       "    <tr>\n",
       "      <th>0</th>\n",
       "      <td>Comics</td>\n",
       "      <td>16</td>\n",
       "      <td>US</td>\n",
       "      <td>500.00</td>\n",
       "      <td>successful</td>\n",
       "      <td>77 days</td>\n",
       "    </tr>\n",
       "    <tr>\n",
       "      <th>1</th>\n",
       "      <td>Apps</td>\n",
       "      <td>2</td>\n",
       "      <td>ES</td>\n",
       "      <td>18599.77</td>\n",
       "      <td>failed</td>\n",
       "      <td>60 days</td>\n",
       "    </tr>\n",
       "    <tr>\n",
       "      <th>2</th>\n",
       "      <td>Plays</td>\n",
       "      <td>34</td>\n",
       "      <td>GB</td>\n",
       "      <td>3331.73</td>\n",
       "      <td>failed</td>\n",
       "      <td>30 days</td>\n",
       "    </tr>\n",
       "    <tr>\n",
       "      <th>3</th>\n",
       "      <td>Product Design</td>\n",
       "      <td>190</td>\n",
       "      <td>AU</td>\n",
       "      <td>4979.70</td>\n",
       "      <td>successful</td>\n",
       "      <td>30 days</td>\n",
       "    </tr>\n",
       "    <tr>\n",
       "      <th>4</th>\n",
       "      <td>Metal</td>\n",
       "      <td>3</td>\n",
       "      <td>US</td>\n",
       "      <td>5000.00</td>\n",
       "      <td>failed</td>\n",
       "      <td>60 days</td>\n",
       "    </tr>\n",
       "  </tbody>\n",
       "</table>\n",
       "</div>"
      ],
      "text/plain": [
       "         category  backers country  usd_goal_real       state  period\n",
       "0          Comics       16      US         500.00  successful 77 days\n",
       "1            Apps        2      ES       18599.77      failed 60 days\n",
       "2           Plays       34      GB        3331.73      failed 30 days\n",
       "3  Product Design      190      AU        4979.70  successful 30 days\n",
       "4           Metal        3      US        5000.00      failed 60 days"
      ]
     },
     "execution_count": 5,
     "metadata": {},
     "output_type": "execute_result"
    }
   ],
   "source": [
    "new_train_data=new_train_data.drop('name', axis='columns')\n",
    "new_train_data=new_train_data.drop('ID', axis='columns')\n",
    "new_train_data=new_train_data.drop('currency', axis='columns')\n",
    "new_train_data=new_train_data.drop('deadline', axis='columns')\n",
    "new_train_data=new_train_data.drop('goal', axis='columns')\n",
    "new_train_data=new_train_data.drop('launched', axis='columns')\n",
    "new_train_data=new_train_data.drop('pledged', axis='columns')\n",
    "#new_train_data=new_train_data.drop('backers', axis='columns')\n",
    "new_train_data=new_train_data.drop('usd_pledged_real', axis='columns')\n",
    "new_train_data=new_train_data.drop('main_category', axis='columns')\n",
    "\n",
    "new_test_data=new_test_data.drop('name', axis='columns')\n",
    "new_test_data=new_test_data.drop('ID', axis='columns')\n",
    "new_test_data=new_test_data.drop('currency', axis='columns')\n",
    "new_test_data=new_test_data.drop('deadline', axis='columns')\n",
    "new_test_data=new_test_data.drop('goal', axis='columns')\n",
    "new_test_data=new_test_data.drop('launched', axis='columns')\n",
    "new_test_data=new_test_data.drop('pledged', axis='columns')\n",
    "#new_test_data=new_test_data.drop('backers', axis='columns')\n",
    "new_test_data=new_test_data.drop('usd_pledged_real', axis='columns')\n",
    "new_test_data=new_test_data.drop('main_category', axis='columns')\n",
    "new_train_data.head()"
   ]
  },
  {
   "cell_type": "code",
   "execution_count": 6,
   "metadata": {},
   "outputs": [],
   "source": [
    "from sklearn.preprocessing import LabelEncoder\n",
    "\n",
    "label = LabelEncoder()\n",
    "dicts = {}\n",
    "label.fit(new_train_data['category'].drop_duplicates())\n",
    "dicts['category'] = list(label.classes_)\n",
    "new_train_data['category'] = label.transform(new_train_data['category'])\n",
    "new_test_data['category'] = label.transform(new_test_data['category'])\n",
    "label.fit(new_train_data['country'].drop_duplicates())\n",
    "dicts['country'] = list(label.classes_)\n",
    "new_train_data['country'] = label.transform(new_train_data['country'])\n",
    "new_test_data['country'] = label.transform(new_test_data['country'])\n",
    "label.fit(new_train_data['state'].drop_duplicates())\n",
    "dicts['state'] = list(label.classes_)\n",
    "new_train_data['state'] = label.transform(new_train_data['state'])\n",
    "new_test_data['state'] = label.transform(new_test_data['state'])\n",
    "label.fit(new_train_data['period'].drop_duplicates())\n",
    "dicts['period'] = list(label.classes_)\n",
    "new_train_data['period'] = label.transform(new_train_data['period'])\n",
    "new_test_data['period'] = label.transform(new_test_data['period'])"
   ]
  },
  {
   "cell_type": "code",
   "execution_count": 7,
   "metadata": {},
   "outputs": [
    {
     "data": {
      "text/html": [
       "<div>\n",
       "<style scoped>\n",
       "    .dataframe tbody tr th:only-of-type {\n",
       "        vertical-align: middle;\n",
       "    }\n",
       "\n",
       "    .dataframe tbody tr th {\n",
       "        vertical-align: top;\n",
       "    }\n",
       "\n",
       "    .dataframe thead th {\n",
       "        text-align: right;\n",
       "    }\n",
       "</style>\n",
       "<table border=\"1\" class=\"dataframe\">\n",
       "  <thead>\n",
       "    <tr style=\"text-align: right;\">\n",
       "      <th></th>\n",
       "      <th>category</th>\n",
       "      <th>backers</th>\n",
       "      <th>country</th>\n",
       "      <th>usd_goal_real</th>\n",
       "      <th>state</th>\n",
       "      <th>period</th>\n",
       "    </tr>\n",
       "  </thead>\n",
       "  <tbody>\n",
       "    <tr>\n",
       "      <th>0</th>\n",
       "      <td>52</td>\n",
       "      <td>16</td>\n",
       "      <td>21</td>\n",
       "      <td>7500.0</td>\n",
       "      <td>0</td>\n",
       "      <td>44</td>\n",
       "    </tr>\n",
       "    <tr>\n",
       "      <th>1</th>\n",
       "      <td>52</td>\n",
       "      <td>1</td>\n",
       "      <td>21</td>\n",
       "      <td>7000.0</td>\n",
       "      <td>0</td>\n",
       "      <td>44</td>\n",
       "    </tr>\n",
       "    <tr>\n",
       "      <th>2</th>\n",
       "      <td>58</td>\n",
       "      <td>63</td>\n",
       "      <td>21</td>\n",
       "      <td>7000.0</td>\n",
       "      <td>1</td>\n",
       "      <td>29</td>\n",
       "    </tr>\n",
       "    <tr>\n",
       "      <th>3</th>\n",
       "      <td>154</td>\n",
       "      <td>10</td>\n",
       "      <td>21</td>\n",
       "      <td>1500.0</td>\n",
       "      <td>0</td>\n",
       "      <td>29</td>\n",
       "    </tr>\n",
       "    <tr>\n",
       "      <th>4</th>\n",
       "      <td>39</td>\n",
       "      <td>142</td>\n",
       "      <td>21</td>\n",
       "      <td>18000.0</td>\n",
       "      <td>1</td>\n",
       "      <td>46</td>\n",
       "    </tr>\n",
       "  </tbody>\n",
       "</table>\n",
       "</div>"
      ],
      "text/plain": [
       "   category  backers  country  usd_goal_real  state  period\n",
       "0        52       16       21         7500.0      0      44\n",
       "1        52        1       21         7000.0      0      44\n",
       "2        58       63       21         7000.0      1      29\n",
       "3       154       10       21         1500.0      0      29\n",
       "4        39      142       21        18000.0      1      46"
      ]
     },
     "execution_count": 7,
     "metadata": {},
     "output_type": "execute_result"
    }
   ],
   "source": [
    "new_test_data.head()"
   ]
  },
  {
   "cell_type": "code",
   "execution_count": 8,
   "metadata": {},
   "outputs": [],
   "source": [
    "X_train = new_train_data.drop('state', axis='columns').values\n",
    "y_train = new_train_data['state'].values\n",
    "X_test = new_test_data.drop('state', axis='columns').values\n",
    "y_test = new_test_data['state'].values"
   ]
  },
  {
   "cell_type": "code",
   "execution_count": 9,
   "metadata": {},
   "outputs": [],
   "source": [
    "from sklearn import tree\n",
    "\n",
    "dt = tree.DecisionTreeClassifier(criterion='entropy',\n",
    "                                 max_depth=100,\n",
    "                                 random_state=228)\n",
    "dt = dt.fit(X_train, y_train)\n",
    "\n",
    "from sklearn.ensemble import RandomForestClassifier\n",
    "\n",
    "rf = RandomForestClassifier(max_depth=None,\n",
    "                            n_estimators=275,\n",
    "                            bootstrap=True,\n",
    "                            random_state=228, \n",
    "                            n_jobs=-1)\n",
    "rf = rf.fit(X_train, y_train)"
   ]
  },
  {
   "cell_type": "code",
   "execution_count": 10,
   "metadata": {},
   "outputs": [
    {
     "name": "stdout",
     "output_type": "stream",
     "text": [
      "Metrics on test set:\n",
      "Accuracy = 0.89730\n",
      "Precision = 0.87520\n",
      "Recall = 0.86973\n"
     ]
    }
   ],
   "source": [
    "from sklearn.metrics import accuracy_score, precision_score, recall_score\n",
    "\n",
    "test_accuracy = accuracy_score(y_test, dt.predict(X_test))\n",
    "test_precision = precision_score(y_test, dt.predict(X_test))\n",
    "test_recall = recall_score(y_test, dt.predict(X_test))\n",
    "\n",
    "print('Metrics on test set:\\nAccuracy = {0:.5f}\\nPrecision = {1:.5f}\\nRecall = {2:.5f}'\n",
    "      .format(test_accuracy, test_precision, test_recall))"
   ]
  },
  {
   "cell_type": "code",
   "execution_count": 11,
   "metadata": {},
   "outputs": [
    {
     "name": "stdout",
     "output_type": "stream",
     "text": [
      "Metrics on test set:\n",
      "Accuracy = 0.92496\n",
      "Precision = 0.90041\n",
      "Recall = 0.91545\n"
     ]
    }
   ],
   "source": [
    "test_accuracy = accuracy_score(y_test, rf.predict(X_test))\n",
    "test_precision = precision_score(y_test, rf.predict(X_test))\n",
    "test_recall = recall_score(y_test, rf.predict(X_test))\n",
    "\n",
    "print('Metrics on test set:\\nAccuracy = {0:.5f}\\nPrecision = {1:.5f}\\nRecall = {2:.5f}'\n",
    "      .format(test_accuracy, test_precision, test_recall))"
   ]
  },
  {
   "cell_type": "code",
   "execution_count": 12,
   "metadata": {},
   "outputs": [
    {
     "name": "stdout",
     "output_type": "stream",
     "text": [
      "Metrics on test set:\n",
      "Accuracy = 0.92240\n",
      "Precision = 0.89957\n",
      "Recall = 0.90939\n"
     ]
    }
   ],
   "source": [
    "from sklearn.ensemble import ExtraTreesClassifier\n",
    "    \n",
    "clf = ExtraTreesClassifier(n_estimators=275,\n",
    "                           max_depth=None,\n",
    "                           bootstrap=True, \n",
    "                           random_state=228, \n",
    "                           n_jobs=-1)\n",
    "clf = clf.fit(X_train, y_train)\n",
    "\n",
    "test_accuracy = accuracy_score(y_test, clf.predict(X_test))\n",
    "test_precision = precision_score(y_test, clf.predict(X_test))\n",
    "test_recall = recall_score(y_test, clf.predict(X_test))\n",
    "\n",
    "print('Metrics on test set:\\nAccuracy = {0:.5f}\\nPrecision = {1:.5f}\\nRecall = {2:.5f}'\n",
    "      .format(test_accuracy, test_precision, test_recall))"
   ]
  },
  {
   "cell_type": "code",
   "execution_count": 13,
   "metadata": {},
   "outputs": [
    {
     "name": "stdout",
     "output_type": "stream",
     "text": [
      "Metrics on test set:\n",
      "Accuracy = 0.93118\n",
      "Precision = 0.91081\n",
      "Recall = 0.91965\n"
     ]
    }
   ],
   "source": [
    "from sklearn.ensemble import GradientBoostingClassifier\n",
    "    \n",
    "gbc = GradientBoostingClassifier(n_estimators=275,\n",
    "                                 learning_rate=1.0,\n",
    "                                 max_depth=3,\n",
    "                                 random_state=228)\n",
    "gbc.fit(X_train, y_train)\n",
    "from sklearn.metrics import accuracy_score, precision_score, recall_score\n",
    "\n",
    "test_accuracy = accuracy_score(y_test, gbc.predict(X_test))\n",
    "test_precision = precision_score(y_test, gbc.predict(X_test))\n",
    "test_recall = recall_score(y_test, gbc.predict(X_test))\n",
    "\n",
    "print('Metrics on test set:\\nAccuracy = {0:.5f}\\nPrecision = {1:.5f}\\nRecall = {2:.5f}'\n",
    "      .format(test_accuracy, test_precision, test_recall))"
   ]
  },
  {
   "cell_type": "code",
   "execution_count": 14,
   "metadata": {},
   "outputs": [
    {
     "name": "stdout",
     "output_type": "stream",
     "text": [
      "Metrics on test set:\n",
      "Accuracy = 0.93126\n",
      "Precision = 0.90752\n",
      "Recall = 0.92395\n"
     ]
    }
   ],
   "source": [
    "from sklearn.ensemble import AdaBoostClassifier\n",
    "from sklearn.tree import DecisionTreeClassifier\n",
    "\n",
    "bdt = AdaBoostClassifier(DecisionTreeClassifier(criterion='entropy',\n",
    "                                                 max_depth=2,\n",
    "                                                 random_state=228),\n",
    "                         algorithm=\"SAMME.R\",\n",
    "                         n_estimators=275,\n",
    "                         random_state=228)\n",
    "bdt=bdt.fit(X_train, y_train)\n",
    "\n",
    "test_accuracy = accuracy_score(y_test, bdt.predict(X_test))\n",
    "test_precision = precision_score(y_test, bdt.predict(X_test))\n",
    "test_recall = recall_score(y_test, bdt.predict(X_test))\n",
    "\n",
    "print('Metrics on test set:\\nAccuracy = {0:.5f}\\nPrecision = {1:.5f}\\nRecall = {2:.5f}'\n",
    "      .format(test_accuracy, test_precision, test_recall))"
   ]
  },
  {
   "cell_type": "code",
   "execution_count": null,
   "metadata": {},
   "outputs": [],
   "source": [
    "# здесь должны быть графики"
   ]
  }
 ],
 "metadata": {
  "kernelspec": {
   "display_name": "Python 3",
   "language": "python",
   "name": "python3"
  },
  "language_info": {
   "codemirror_mode": {
    "name": "ipython",
    "version": 3
   },
   "file_extension": ".py",
   "mimetype": "text/x-python",
   "name": "python",
   "nbconvert_exporter": "python",
   "pygments_lexer": "ipython3",
   "version": "3.6.5"
  }
 },
 "nbformat": 4,
 "nbformat_minor": 2
}
